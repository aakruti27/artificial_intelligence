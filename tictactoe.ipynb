{
  "nbformat": 4,
  "nbformat_minor": 0,
  "metadata": {
    "colab": {
      "name": "tictactoe.ipynb",
      "provenance": [],
      "collapsed_sections": [],
      "authorship_tag": "ABX9TyMpaAQFacvVuNV9//FFarBx"
    },
    "kernelspec": {
      "name": "python3",
      "display_name": "Python 3"
    },
    "language_info": {
      "name": "python"
    }
  },
  "cells": [
    {
      "cell_type": "code",
      "source": [
        "grid=[' ' for x in range(10)]"
      ],
      "metadata": {
        "id": "QVMAi1BT2w8P"
      },
      "execution_count": 41,
      "outputs": []
    },
    {
      "cell_type": "code",
      "execution_count": 42,
      "metadata": {
        "id": "o0p503Vg1SMS"
      },
      "outputs": [],
      "source": [
        "def insertletter(letter,pos):\n",
        "  grid[pos]=letter"
      ]
    },
    {
      "cell_type": "code",
      "source": [
        "def spaceisfree(pos):\n",
        "  return grid[pos]==' '"
      ],
      "metadata": {
        "id": "vspzICFL2oPn"
      },
      "execution_count": 43,
      "outputs": []
    },
    {
      "cell_type": "code",
      "source": [
        "def prtgrid(grid):\n",
        "  print('   |   |')\n",
        "  print(' ' + grid[1] + ' | ' + grid[2] + ' | ' + grid[3])\n",
        "  print('   |   |')\n",
        "  print('-----------')\n",
        "  print('   |   |')\n",
        "  print(' ' + grid[4] + ' | ' + grid[5] + ' | ' + grid[6])\n",
        "  print('   |   |')\n",
        "  print('-----------')\n",
        "  print('   |   |')\n",
        "  print(' ' + grid[7] + ' | ' + grid[8] + ' | ' + grid[9])\n",
        "  print('   |   |')"
      ],
      "metadata": {
        "id": "LmarLT832uUe"
      },
      "execution_count": 44,
      "outputs": []
    },
    {
      "cell_type": "code",
      "source": [
        "def iswinner(grd,ltr):\n",
        "  return (grd[7]== ltr and grd[8]== ltr and grd[9]== ltr) or (grd[4]== ltr and grd[5]== ltr and grd[6]== ltr) or (grd[1]== ltr and grd[2]== ltr and grd[3]== ltr) or (grd[1]== ltr and grd[4]== ltr and grd[7]== ltr) or (grd[2]== ltr and grd[5]== ltr and grd[8]== ltr) or (grd[3]== ltr and grd[6]== ltr and grd[9]== ltr) or (grd[1]== ltr and grd[5]== ltr and grd[9]== ltr) or (grd[3]== ltr and grd[5]== ltr and grd[7]== ltr)"
      ],
      "metadata": {
        "id": "FnbyDDnM4Olp"
      },
      "execution_count": 45,
      "outputs": []
    },
    {
      "cell_type": "code",
      "source": [
        "def isgridFull(grid):\n",
        "  if grid.count(' ')>1:\n",
        "    return False\n",
        "  else:\n",
        "    return True"
      ],
      "metadata": {
        "id": "xbSsLSq36V1c"
      },
      "execution_count": 46,
      "outputs": []
    },
    {
      "cell_type": "code",
      "source": [
        "def playerMove():\n",
        "  run=True\n",
        "  while run:\n",
        "    move= input(\"select a position for \\'x\\' (1-9)\")\n",
        "    try:\n",
        "      move=int(move)\n",
        "      if move>0 and move<10:\n",
        "        if spaceisfree(move):\n",
        "          run=False\n",
        "          insertletter('x',move)\n",
        "        else:\n",
        "          print(\"This space is occupied\")\n",
        "      else:\n",
        "        print(\"Number has to be between 1 and 9\")\n",
        "    except:\n",
        "      print('Please type a number!')"
      ],
      "metadata": {
        "id": "FCh39Xjp7KMd"
      },
      "execution_count": 47,
      "outputs": []
    },
    {
      "cell_type": "code",
      "source": [
        "def compMove():\n",
        "  possiblemoves=[x for x, letter in enumerate(grid) if letter==' ' and x!=0]\n",
        "  flag=0\n",
        "  \n",
        "  #these nested loops check, for 'o' if we are winning by positioning 'o' there then return that move and place o, then next for 'x', if x is winning by being at that pos then again return this pos so we can place 'o' and block off x\n",
        "  for letr in ['o','x']:\n",
        "    for i in possiblemoves:\n",
        "      gridcopy=grid[:]   #this is how list is cloned. if we just wrote gridcopy=grid, then it would have been like \"call by reference\"\n",
        "      gridcopy[i]=letr\n",
        "      if iswinner(gridcopy,letr):\n",
        "        flag=i       #this move helps us win\n",
        "        return flag\n",
        "\n",
        "  #if there's no position where comp can win or where player can win, we try to place o in one of the open corners\n",
        "  opencorners=[]\n",
        "  for i in possiblemoves:\n",
        "    if i in [1,3,7,9]:\n",
        "      opencorners.append(i)\n",
        "  if len(opencorners)>0:\n",
        "    flag=selectRandom(opencorners)\n",
        "    return flag\n",
        "  if 5 in possiblemoves:\n",
        "    flag=5\n",
        "    return flag\n",
        "  \n",
        "  #otherwise check if edge centers are open\n",
        "  openedge=[]\n",
        "  for i in possiblemoves:\n",
        "    if i in [2,4,6,8]:\n",
        "      openedge.append(i)\n",
        "  if len(openedge)>0:\n",
        "    flag=selectRandom(openedge)\n",
        "  \n",
        "  return flag\n"
      ],
      "metadata": {
        "id": "lRgCD2b2hfei"
      },
      "execution_count": 52,
      "outputs": []
    },
    {
      "cell_type": "code",
      "source": [
        "def selectRandom(li):\n",
        "  import random\n",
        "  ln=len(li)\n",
        "  r= random.randrange(0,ln)\n",
        "  return li[r]"
      ],
      "metadata": {
        "id": "s4GJHGz4lubo"
      },
      "execution_count": 49,
      "outputs": []
    },
    {
      "cell_type": "code",
      "source": [
        "def main():\n",
        "  print(\"AI PLAYS TIC TAC TOE\")\n",
        "  prtgrid(grid)\n",
        "\n",
        "  while not(isgridFull(grid)):\n",
        "    if not (iswinner(grid,'o')):\n",
        "      playerMove()\n",
        "      prtgrid(grid)\n",
        "    else:\n",
        "      print(\"computer won\")\n",
        "      break\n",
        "    if not (iswinner(grid,'x')):\n",
        "      move= compMove()\n",
        "      if move==0:\n",
        "        print(\"DRAW\")\n",
        "      else:\n",
        "        insertletter('o',move)\n",
        "        print(\"Computer placed \\'o\\' in pos: \",move)\n",
        "        prtgrid(grid)\n",
        "    else:\n",
        "      print(\"YOU WIN\")\n",
        "      break\n",
        "      \n",
        "  if isgridFull(grid):\n",
        "    print(\"DRAW\")"
      ],
      "metadata": {
        "id": "dwvh9am35PvK"
      },
      "execution_count": 50,
      "outputs": []
    },
    {
      "cell_type": "code",
      "source": [
        "while True:\n",
        "    answer = input('Do you want to play again? (Y/N)')\n",
        "    if answer.lower() == 'y':\n",
        "        grid = [' ' for x in range(10)]\n",
        "        print('-----------------------------------')\n",
        "        main()\n",
        "    else:\n",
        "        break"
      ],
      "metadata": {
        "colab": {
          "base_uri": "https://localhost:8080/"
        },
        "id": "1oNHXdl0i53d",
        "outputId": "75a5ae61-4481-472a-ba9f-73ba0f4c5614"
      },
      "execution_count": 55,
      "outputs": [
        {
          "name": "stdout",
          "output_type": "stream",
          "text": [
            "Do you want to play again? (Y/N)y\n",
            "-----------------------------------\n",
            "AI PLAYS TIC TAC TOE\n",
            "   |   |\n",
            "   |   |  \n",
            "   |   |\n",
            "-----------\n",
            "   |   |\n",
            "   |   |  \n",
            "   |   |\n",
            "-----------\n",
            "   |   |\n",
            "   |   |  \n",
            "   |   |\n",
            "select a position for 'x' (1-9)5\n",
            "   |   |\n",
            "   |   |  \n",
            "   |   |\n",
            "-----------\n",
            "   |   |\n",
            "   | x |  \n",
            "   |   |\n",
            "-----------\n",
            "   |   |\n",
            "   |   |  \n",
            "   |   |\n",
            "Computer placed 'o' in pos:  1\n",
            "   |   |\n",
            " o |   |  \n",
            "   |   |\n",
            "-----------\n",
            "   |   |\n",
            "   | x |  \n",
            "   |   |\n",
            "-----------\n",
            "   |   |\n",
            "   |   |  \n",
            "   |   |\n",
            "select a position for 'x' (1-9)7\n",
            "   |   |\n",
            " o |   |  \n",
            "   |   |\n",
            "-----------\n",
            "   |   |\n",
            "   | x |  \n",
            "   |   |\n",
            "-----------\n",
            "   |   |\n",
            " x |   |  \n",
            "   |   |\n",
            "Computer placed 'o' in pos:  3\n",
            "   |   |\n",
            " o |   | o\n",
            "   |   |\n",
            "-----------\n",
            "   |   |\n",
            "   | x |  \n",
            "   |   |\n",
            "-----------\n",
            "   |   |\n",
            " x |   |  \n",
            "   |   |\n",
            "select a position for 'x' (1-9)9\n",
            "   |   |\n",
            " o |   | o\n",
            "   |   |\n",
            "-----------\n",
            "   |   |\n",
            "   | x |  \n",
            "   |   |\n",
            "-----------\n",
            "   |   |\n",
            " x |   | x\n",
            "   |   |\n",
            "Computer placed 'o' in pos:  2\n",
            "   |   |\n",
            " o | o | o\n",
            "   |   |\n",
            "-----------\n",
            "   |   |\n",
            "   | x |  \n",
            "   |   |\n",
            "-----------\n",
            "   |   |\n",
            " x |   | x\n",
            "   |   |\n",
            "computer won\n",
            "Do you want to play again? (Y/N)n\n"
          ]
        }
      ]
    }
  ]
}