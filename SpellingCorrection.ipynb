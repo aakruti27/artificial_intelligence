{
  "nbformat": 4,
  "nbformat_minor": 0,
  "metadata": {
    "colab": {
      "name": "SpellingCorrection.ipynb",
      "provenance": [],
      "authorship_tag": "ABX9TyO9kAVpJs6oKDS5FDPWhP98"
    },
    "kernelspec": {
      "name": "python3",
      "display_name": "Python 3"
    },
    "language_info": {
      "name": "python"
    }
  },
  "cells": [
    {
      "cell_type": "markdown",
      "source": [
        "## Getting words, distance metrices, pandas series"
      ],
      "metadata": {
        "id": "3cGi0KUhNRHA"
      }
    },
    {
      "cell_type": "code",
      "source": [
        "import nltk\n",
        "from nltk.corpus import words\n",
        "from nltk.util import ngrams\n",
        "from nltk.metrics.distance import (edit_distance)"
      ],
      "metadata": {
        "id": "hubWQDBJbluY"
      },
      "execution_count": 1,
      "outputs": []
    },
    {
      "cell_type": "code",
      "source": [
        "nltk.download('words')\n",
        "correctwrd= words.words()"
      ],
      "metadata": {
        "id": "Jt2tc9XNBV2k",
        "colab": {
          "base_uri": "https://localhost:8080/"
        },
        "outputId": "74f5ba5d-5f2f-41ee-d1ad-f8ebf8cd3e98"
      },
      "execution_count": 4,
      "outputs": [
        {
          "output_type": "stream",
          "name": "stderr",
          "text": [
            "[nltk_data] Downloading package words to /root/nltk_data...\n",
            "[nltk_data]   Unzipping corpora/words.zip.\n"
          ]
        }
      ]
    },
    {
      "cell_type": "code",
      "source": [
        "import pandas \n",
        "correctsrs= pandas.Series(correctwrd)"
      ],
      "metadata": {
        "id": "ED528SYwBmSm"
      },
      "execution_count": 5,
      "outputs": []
    },
    {
      "cell_type": "code",
      "source": [
        "correctsrs"
      ],
      "metadata": {
        "colab": {
          "base_uri": "https://localhost:8080/"
        },
        "id": "o0fkqnbgFzD_",
        "outputId": "b6234714-f5da-498d-b7af-e7ea7575440c"
      },
      "execution_count": 6,
      "outputs": [
        {
          "output_type": "execute_result",
          "data": {
            "text/plain": [
              "0                 A\n",
              "1                 a\n",
              "2                aa\n",
              "3               aal\n",
              "4             aalii\n",
              "            ...    \n",
              "236731       yellow\n",
              "236732          yes\n",
              "236733    yesterday\n",
              "236734          you\n",
              "236735        young\n",
              "Length: 236736, dtype: object"
            ]
          },
          "metadata": {},
          "execution_count": 6
        }
      ]
    },
    {
      "cell_type": "markdown",
      "source": [
        "## For single entry at a time-"
      ],
      "metadata": {
        "id": "rJBcjTAYM-ev"
      }
    },
    {
      "cell_type": "code",
      "source": [
        "def editdismodel(entries):\n",
        "  res=[]\n",
        "  distance={}\n",
        "  for entry in entries:\n",
        "    for word in correctwrd:\n",
        "      if word[0]==entry[0]:\n",
        "        distance[word]=int(edit_distance(entry,word))\n",
        "    #print(distance)\n",
        "    sorted_d=dict(sorted(distance.items(), key=lambda item: item[1]))\n",
        "    res.append(list(sorted_d.items())[0])\n",
        "    #dict(sorted(distance.items(), key=lambda item: item[1]))\n",
        "    #similarwrd=min(distance.key())\n",
        "    #res.append(similarwrd[1])\n",
        "  \n",
        "  return res"
      ],
      "metadata": {
        "id": "mrX3pyYKF00M"
      },
      "execution_count": 102,
      "outputs": []
    },
    {
      "cell_type": "code",
      "source": [
        "editdismodel(['colo'])"
      ],
      "metadata": {
        "colab": {
          "base_uri": "https://localhost:8080/"
        },
        "id": "KflvW1W-0a07",
        "outputId": "fdb7dc03-9dad-492f-fdba-bc6b7c6c1ebc"
      },
      "execution_count": 103,
      "outputs": [
        {
          "output_type": "execute_result",
          "data": {
            "text/plain": [
              "[('coco', 1)]"
            ]
          },
          "metadata": {},
          "execution_count": 103
        }
      ]
    },
    {
      "cell_type": "code",
      "source": [
        "editdismodel(['aakruti'])"
      ],
      "metadata": {
        "colab": {
          "base_uri": "https://localhost:8080/"
        },
        "id": "TnWb_sOO2nEM",
        "outputId": "9da71cde-cf9e-4483-8b7c-561590fdbccd"
      },
      "execution_count": 104,
      "outputs": [
        {
          "output_type": "execute_result",
          "data": {
            "text/plain": [
              "[('agouti', 3)]"
            ]
          },
          "metadata": {},
          "execution_count": 104
        }
      ]
    },
    {
      "cell_type": "markdown",
      "source": [
        "## For multiple entries together-"
      ],
      "metadata": {
        "id": "DZgoTkzINCgb"
      }
    },
    {
      "cell_type": "code",
      "source": [
        "def editdismodeltoge(entries):\n",
        "  res=[]\n",
        "  for entry in entries:\n",
        "    distance={}\n",
        "    for word in correctwrd:\n",
        "      if word[0]==entry[0]:\n",
        "        distance[word]=int(edit_distance(entry,word))\n",
        "    #print(distance)\n",
        "    sorted_d=dict(sorted(distance.items(), key=lambda item: item[1]))\n",
        "    res.append(list(sorted_d.items())[0])\n",
        "    #dict(sorted(distance.items(), key=lambda item: item[1]))\n",
        "    #similarwrd=min(distance.key())\n",
        "    #res.append(similarwrd[1])\n",
        "  \n",
        "  return res"
      ],
      "metadata": {
        "id": "1vNncIgzMNdx"
      },
      "execution_count": 101,
      "outputs": []
    },
    {
      "cell_type": "code",
      "source": [
        "editdismodeltoge(['droling','cream','skool','pleese'])"
      ],
      "metadata": {
        "colab": {
          "base_uri": "https://localhost:8080/"
        },
        "id": "WsLO6Xg6MtC-",
        "outputId": "d31c52a6-092e-450f-afbf-f623c774d112"
      },
      "execution_count": 105,
      "outputs": [
        {
          "output_type": "execute_result",
          "data": {
            "text/plain": [
              "[('dropling', 1), ('cream', 0), ('shool', 1), ('please', 1)]"
            ]
          },
          "metadata": {},
          "execution_count": 105
        }
      ]
    }
  ]
}